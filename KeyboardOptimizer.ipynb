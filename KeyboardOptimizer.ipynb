{
 "cells": [
  {
   "cell_type": "markdown",
   "id": "bfc5fe34-b5ae-4ad9-ab6c-be5cac6125ab",
   "metadata": {},
   "source": [
    "# Polish Keyboard Layout Optimizer"
   ]
  },
  {
   "cell_type": "markdown",
   "id": "d91f5356-6d08-4ebb-b2fa-4ae671d95fed",
   "metadata": {},
   "source": [
    "## Assumptions and goal\n",
    "Let's dive straight in: our mission is to craft the ultimate keyboard layout for typing in Polish. How do we define \"ultimate\"? Simple. It's all about minimizing the distance your fingers need to travel while typing. Less travel, more speed, better efficiency.\n",
    "\n",
    "### What does the best mean?\n",
    "In the realm of keyboard layouts, \"best\" is all about efficiency. It's a game of finding a layout where your fingers barely have to move to hit the right keys. Think of it as choreographing a finger ballet—smooth, swift, and efficient.\n",
    "\n",
    "### Our Target User\n",
    "Our muse is the classic 10-finger typist, using the traditional home row keys. We're designing for the typist who's all about A, S, D, F, and J, K, L, ; - but with a Polish twist. This means embracing all the unique characters of the Polish language.\n",
    "\n",
    "### A Note on Variability\n",
    "Here's where it gets spicy: different datasets lead to different layouts. From formal documents to casual tweets, the variety in language use means our optimal layout might shift a bit. And remember, keyboards themselves are diverse creatures. The spacing and placement of keys can vary, so our ideal layout might not be universally perfect."
   ]
  },
  {
   "cell_type": "markdown",
   "id": "65c8de65-07b7-4247-831d-683f74f5715d",
   "metadata": {},
   "source": [
    "## Methodology\n",
    "It's all about the data. We're diving deep into the CC100-Polish dataset to explore common words and typing patterns, including those unique Polish characters. Feel adventurous? Mix in other datasets for a broader view. Our goal? A keyboard layout that feels like it's reading your mind, with the least amount of finger travel possible."
   ]
  },
  {
   "cell_type": "markdown",
   "id": "9a6155e0-0d11-48d3-8d4f-02199dbf00dc",
   "metadata": {},
   "source": [
    "## Calculate distance between keystrokes"
   ]
  },
  {
   "cell_type": "code",
   "execution_count": 81,
   "id": "8253f1cc-9b68-4929-8153-6095bb1d441e",
   "metadata": {},
   "outputs": [],
   "source": [
    "qwerty_layout = {\n",
    "    'Q': (0, 0), 'W': (0, 1), 'E': (0, 2), 'R': (0, 3),\n",
    "    'T': (0, 4), 'Y': (0, 5), 'U': (0, 6), 'I': (0, 7), 'O': (0, 8), 'P': (0, 9),\n",
    "    'A': (1, 0), 'S': (1, 1), 'D': (1, 2), 'F': (1, 3),\n",
    "    'G': (1, 4), 'H': (1, 5), 'J': (1, 6), 'K': (1, 7), 'L': (1, 8), ';': (1, 9),\n",
    "    'Z': (2, 0), 'X': (2, 1), 'C': (2, 2), 'V': (2, 3),\n",
    "    'B': (2, 4), 'N': (2, 5), 'M': (2, 6), ',': (2, 7), '.': (2, 8), '/': (2, 9)\n",
    "}"
   ]
  },
  {
   "cell_type": "code",
   "execution_count": 82,
   "id": "838744c2-682b-4b79-96bd-13516c06a96c",
   "metadata": {},
   "outputs": [
    {
     "data": {
      "text/plain": [
       "1.118"
      ]
     },
     "execution_count": 82,
     "metadata": {},
     "output_type": "execute_result"
    }
   ],
   "source": [
    "def calculate_keystroke_distance(key1, key2, layout):\n",
    "    # Define the distances\n",
    "    standard_distances = {\n",
    "        'same_col': {(1, 0): 1.032, (0, 1): 1.032, (1, 2): 1.118, (2, 1): 1.118, (2, 0): 2.138, (0, 2): 2.138},  # middle to upper, middle to lower, bottom to top\n",
    "        'diff_col': {'middle_upper': 1.032, 'middle_lower': 1.118},\n",
    "    }\n",
    "    special_cases = {\n",
    "        ((1, 3), (0, 4)): 1.247, ((1, 5), (0, 6)): 1.247, # F to T, H to U\n",
    "        ((1, 4), (0, 3)): 1.605, ((1, 6), (0, 5)): 1.605, # G to R, J to Y\n",
    "        ((2, 4), (1, 3)): 1.803, ((2, 6), (1, 5)): 1.803, # B to F, M to H\n",
    "        ((2, 4), (0, 3)): 2.661, ((2, 6), (0, 5)): 2.661, # B to R, M to Y\n",
    "        ((2, 3), (0, 4)): 2.015, ((2, 5), (0, 6)): 2.015, # V to T, N to U\n",
    "        ((1, 3), (1, 4)): 1.000, ((1, 5), (1, 6)): 1.000  # F to G, J to H\n",
    "    }\n",
    "    \n",
    "    # Get positions\n",
    "    pos1, pos2 = layout[key1], layout[key2]\n",
    "\n",
    "    # If the second key is a default position, distance is 0\n",
    "    if key1 == key2:\n",
    "        return 0\n",
    "\n",
    "    # Same column cases\n",
    "    if pos1[1] == pos2[1]:\n",
    "        return standard_distances['same_col'][(pos1[0], pos2[0])]\n",
    "    \n",
    "    # Adjust for special cases based on columns\n",
    "    if pos1[1] not in [3, 4] and pos2[1] in [3, 4]:\n",
    "        pos1 = (1, 3)  # Adjust to F (QWERTY) position\n",
    "    elif pos1[1] not in [5, 6] and pos2[1] in [5, 6]:\n",
    "        pos1 = (1, 6)  # Adjust to J (QWERTY) position\n",
    "        \n",
    "    # Special cases\n",
    "    if (pos1, pos2) in special_cases:\n",
    "        return special_cases[(pos1, pos2)]\n",
    "    if (pos2, pos1) in special_cases:\n",
    "        return special_cases[(pos2, pos1)]\n",
    "\n",
    "    if key2 in 'ASDFJKL; ':\n",
    "        return 0\n",
    "    \n",
    "    # Different column cases\n",
    "    # Determine middle to top or middle to bottom distance\n",
    "    if pos2[0] == 0:  # Top row\n",
    "        return standard_distances['diff_col']['middle_upper']\n",
    "    elif pos2[0] == 2:  # Bottom row\n",
    "        return standard_distances['diff_col']['middle_lower']\n",
    "\n",
    "# Example of using the function\n",
    "calculate_keystroke_distance('F', 'V', qwerty_layout)"
   ]
  },
  {
   "cell_type": "code",
   "execution_count": null,
   "id": "5bb0348c-1f31-459b-8dd4-15db63f261bc",
   "metadata": {},
   "outputs": [],
   "source": []
  }
 ],
 "metadata": {
  "kernelspec": {
   "display_name": "Python 3 (ipykernel)",
   "language": "python",
   "name": "python3"
  },
  "language_info": {
   "codemirror_mode": {
    "name": "ipython",
    "version": 3
   },
   "file_extension": ".py",
   "mimetype": "text/x-python",
   "name": "python",
   "nbconvert_exporter": "python",
   "pygments_lexer": "ipython3",
   "version": "3.9.18"
  }
 },
 "nbformat": 4,
 "nbformat_minor": 5
}
