{
 "cells": [
  {
   "cell_type": "markdown",
   "id": "bfc5fe34-b5ae-4ad9-ab6c-be5cac6125ab",
   "metadata": {},
   "source": [
    "# Polish Keyboard Layout Optimizer"
   ]
  },
  {
   "cell_type": "markdown",
   "id": "d91f5356-6d08-4ebb-b2fa-4ae671d95fed",
   "metadata": {},
   "source": [
    "## Assumptions and goal\n",
    "Let's dive straight in: our mission is to craft the ultimate keyboard layout for typing in Polish. How do we define \"ultimate\"? Simple. It's all about minimizing the distance your fingers need to travel while typing. Less travel, more speed, better efficiency.\n",
    "\n",
    "### What does the best mean?\n",
    "In the realm of keyboard layouts, \"best\" is all about efficiency. It's a game of finding a layout where your fingers barely have to move to hit the right keys. Think of it as choreographing a finger ballet—smooth, swift, and efficient.\n",
    "\n",
    "### Our Target User\n",
    "Our muse is the classic 10-finger typist, using the traditional home row keys. We're designing for the typist who's all about A, S, D, F, and J, K, L, ; - but with a Polish twist. This means embracing all the unique characters of the Polish language.\n",
    "\n",
    "### A Note on Variability\n",
    "Here's where it gets spicy: different datasets lead to different layouts. From formal documents to casual tweets, the variety in language use means our optimal layout might shift a bit. And remember, keyboards themselves are diverse creatures. The spacing and placement of keys can vary, so our ideal layout might not be universally perfect."
   ]
  },
  {
   "cell_type": "markdown",
   "id": "65c8de65-07b7-4247-831d-683f74f5715d",
   "metadata": {},
   "source": [
    "## Methodology\n",
    "It's all about the data. We're diving deep into the CC100-Polish dataset to explore common words and typing patterns, including those unique Polish characters. Feel adventurous? Mix in other datasets for a broader view. Our goal? A keyboard layout that feels like it's reading your mind, with the least amount of finger travel possible."
   ]
  },
  {
   "cell_type": "markdown",
   "id": "ffdb295d-ce08-4e92-b27e-8422a9d27ca8",
   "metadata": {},
   "source": [
    "## Imports"
   ]
  },
  {
   "cell_type": "code",
   "execution_count": 28,
   "id": "67b3205b-c605-47ba-8e32-5129c918c10d",
   "metadata": {},
   "outputs": [],
   "source": [
    "import random\n",
    "import numpy as np"
   ]
  },
  {
   "cell_type": "markdown",
   "id": "9a6155e0-0d11-48d3-8d4f-02199dbf00dc",
   "metadata": {},
   "source": [
    "## Calculate distance between keystrokes"
   ]
  },
  {
   "cell_type": "code",
   "execution_count": 6,
   "id": "8253f1cc-9b68-4929-8153-6095bb1d441e",
   "metadata": {},
   "outputs": [],
   "source": [
    "qwerty_layout = {\n",
    "    'q': (0, 0), 'w': (0, 1), 'e': (0, 2), 'r': (0, 3),\n",
    "    't': (0, 4), 'y': (0, 5), 'u': (0, 6), 'i': (0, 7), 'o': (0, 8), 'p': (0, 9),\n",
    "    'a': (1, 0), 's': (1, 1), 'd': (1, 2), 'f': (1, 3),\n",
    "    'g': (1, 4), 'h': (1, 5), 'j': (1, 6), 'k': (1, 7), 'l': (1, 8), ';': (1, 9),\n",
    "    'z': (2, 0), 'x': (2, 1), 'c': (2, 2), 'v': (2, 3),\n",
    "    'b': (2, 4), 'n': (2, 5), 'm': (2, 6), ',': (2, 7), '.': (2, 8), '/': (2, 9)\n",
    "}"
   ]
  },
  {
   "cell_type": "code",
   "execution_count": 7,
   "id": "838744c2-682b-4b79-96bd-13516c06a96c",
   "metadata": {},
   "outputs": [
    {
     "data": {
      "text/plain": [
       "2.138"
      ]
     },
     "execution_count": 7,
     "metadata": {},
     "output_type": "execute_result"
    }
   ],
   "source": [
    "def calculate_keystroke_distance(key1, key2, layout):\n",
    "    # Define the distances\n",
    "    standard_distances = {\n",
    "        'same_col': {(1, 0): 1.032, (0, 1): 1.032, (1, 2): 1.118, (2, 1): 1.118, (2, 0): 2.138, (0, 2): 2.138},  # middle to upper, middle to lower, bottom to top\n",
    "        'diff_col': {'middle_upper': 1.032, 'middle_lower': 1.118},\n",
    "    }\n",
    "    special_cases = {\n",
    "        ((1, 3), (0, 4)): 1.247, ((1, 5), (0, 6)): 1.247, # F to T, H to U\n",
    "        ((1, 4), (0, 3)): 1.605, ((1, 6), (0, 5)): 1.605, # G to R, J to Y\n",
    "        ((2, 4), (1, 3)): 1.803, ((2, 6), (1, 5)): 1.803, # B to F, M to H\n",
    "        ((2, 4), (0, 3)): 2.661, ((2, 6), (0, 5)): 2.661, # B to R, M to Y\n",
    "        ((2, 3), (0, 4)): 2.015, ((2, 5), (0, 6)): 2.015, # V to T, N to U\n",
    "        ((1, 3), (1, 4)): 1.000, ((1, 5), (1, 6)): 1.000  # F to G, J to H\n",
    "    }\n",
    "    \n",
    "    # Get positions\n",
    "    pos1, pos2 = layout[key1], layout[key2]\n",
    "\n",
    "    # If the second key is a default position, distance is 0\n",
    "    if key1 == key2:\n",
    "        return 0\n",
    "\n",
    "    # Same column cases\n",
    "    if pos1[1] == pos2[1]:\n",
    "        return standard_distances['same_col'][(pos1[0], pos2[0])]\n",
    "    \n",
    "    # Adjust for special cases based on columns\n",
    "    if pos1[1] not in [3, 4] and pos2[1] in [3, 4]:\n",
    "        pos1 = (1, 3)  # Adjust to F (QWERTY) position\n",
    "    elif pos1[1] not in [5, 6] and pos2[1] in [5, 6]:\n",
    "        pos1 = (1, 6)  # Adjust to J (QWERTY) position\n",
    "        \n",
    "    # Special cases\n",
    "    if (pos1, pos2) in special_cases:\n",
    "        return special_cases[(pos1, pos2)]\n",
    "    if (pos2, pos1) in special_cases:\n",
    "        return special_cases[(pos2, pos1)]\n",
    "\n",
    "    if key2 in 'asdfghjkl; ':\n",
    "        return 0\n",
    "    \n",
    "    # Different column cases\n",
    "    # Determine middle to top or middle to bottom distance\n",
    "    if pos2[0] == 0:  # Top row\n",
    "        return standard_distances['diff_col']['middle_upper']\n",
    "    elif pos2[0] == 2:  # Bottom row\n",
    "        return standard_distances['diff_col']['middle_lower']\n",
    "\n",
    "# Example of using the function\n",
    "calculate_keystroke_distance('z', 'q', qwerty_layout)"
   ]
  },
  {
   "cell_type": "markdown",
   "id": "e55434a6-8dc8-465a-9bd8-9da1282a0ea8",
   "metadata": {},
   "source": [
    "## Load Data"
   ]
  },
  {
   "cell_type": "code",
   "execution_count": 81,
   "id": "969849cc-b09b-4b27-98d0-05adb67e3057",
   "metadata": {},
   "outputs": [],
   "source": [
    "def load_and_process_file(file_path):\n",
    "    with open(file_path, 'r', encoding='utf-8') as file:\n",
    "        data = file.read(2000000)\n",
    "\n",
    "    # Replace specified characters to non-alt ones\n",
    "    replacements = {\n",
    "        '<': ',', \n",
    "        '>': '.', \n",
    "        ':': ';'\n",
    "    }\n",
    "    for old, new in replacements.items():\n",
    "        data = data.replace(old, new)\n",
    "\n",
    "    # Convert to lowercase\n",
    "    data = data.lower()\n",
    "\n",
    "    # Replace Polish characters\n",
    "    polish_replacements = {\n",
    "        'ą': 'a', 'ę': 'e', 'ó': 'o', \n",
    "        'ż': 'z', 'ź': 'x', 'ń': 'n', \n",
    "        'ć': 'c', 'ś': 's', 'ł': 'l', \n",
    "    }\n",
    "    \n",
    "    for old, new in polish_replacements.items():\n",
    "        data = data.replace(old, new)\n",
    "\n",
    "    # Remove all characters except the specified ones\n",
    "    allowed_chars = ',.<>;:abcdefghijklmnopqrstuvwxyz'\n",
    "    data = ''.join([c for c in data if c in allowed_chars])\n",
    "\n",
    "    # Remove numbers\n",
    "    data = ''.join([c for c in data if not c.isdigit()])\n",
    "\n",
    "    return data\n",
    "\n",
    "# Process the data\n",
    "file_path = 'pl.txt'  # Adjust the file path if necessary\n",
    "processed_data = load_and_process_file(file_path)\n"
   ]
  },
  {
   "cell_type": "markdown",
   "id": "4229a339-6417-46ee-a36d-481ebf3d7a4d",
   "metadata": {},
   "source": [
    "## Calculate average distance"
   ]
  },
  {
   "cell_type": "code",
   "execution_count": 86,
   "id": "557cae25-5c72-49b6-b3d4-c87a64f8c53d",
   "metadata": {},
   "outputs": [
    {
     "name": "stdout",
     "output_type": "stream",
     "text": [
      "Overall average distance per 100 characters: 86.3383954886572\n"
     ]
    }
   ],
   "source": [
    "def calculate_overall_average_distance(data, layout):\n",
    "    data = data[:len(data) - (len(data) % 100)]\n",
    "    \n",
    "    total_distance = 0\n",
    "    for i in range(len(data) - 1):\n",
    "        distance = calculate_keystroke_distance(data[i], data[i+1], layout)\n",
    "        if distance is not None:  # Check if distance is not None\n",
    "            total_distance += distance\n",
    "\n",
    "    # Divide the total distance by the number of 100-character segments\n",
    "    num_segments = len(data) // 100\n",
    "    return total_distance / num_segments if num_segments > 0 else 0\n",
    "    \n",
    "# Calculate the overall average distance\n",
    "overall_average_distance = calculate_overall_average_distance(processed_data, qwerty_layout)\n",
    "print(f\"Overall average distance per 100 characters: {overall_average_distance}\")\n"
   ]
  },
  {
   "cell_type": "code",
   "execution_count": null,
   "id": "66dc689f-3f7d-4242-9ed8-368cde5ee6f8",
   "metadata": {},
   "outputs": [],
   "source": []
  }
 ],
 "metadata": {
  "kernelspec": {
   "display_name": "Python 3 (ipykernel)",
   "language": "python",
   "name": "python3"
  },
  "language_info": {
   "codemirror_mode": {
    "name": "ipython",
    "version": 3
   },
   "file_extension": ".py",
   "mimetype": "text/x-python",
   "name": "python",
   "nbconvert_exporter": "python",
   "pygments_lexer": "ipython3",
   "version": "3.9.18"
  }
 },
 "nbformat": 4,
 "nbformat_minor": 5
}
