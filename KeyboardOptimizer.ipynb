{
 "cells": [
  {
   "cell_type": "markdown",
   "id": "bfc5fe34-b5ae-4ad9-ab6c-be5cac6125ab",
   "metadata": {},
   "source": [
    "# Polish Keyboard Layout Optimizer"
   ]
  },
  {
   "cell_type": "markdown",
   "id": "d91f5356-6d08-4ebb-b2fa-4ae671d95fed",
   "metadata": {},
   "source": [
    "## Assumptions and goal\n",
    "Goal of the project is to find (theoretically) the best keyboard layout for typing in polish. \n",
    "### What does the best mean?\n",
    "The best means, that user has the lowest average travel between buttons.\n",
    "### What is the type of user we are analyzing?\n",
    "We are analyzing an user, that types with classic 10 key typing method, where by default fingers rest on A, S, D, F, spacebar, J, K, L, ; (on QWERTY layout).\n",
    "\n",
    "Although!\n",
    "The project doesn't take in account polish signs ('ą', 'ś', 'ę', 'ć', 'ó', 'ż', 'ź', 'ń', 'ł') instead, they are treated as these keys without pressing alt ('a', 's', 'e', 'c', 'o', 'z', 'x', 'n', 'l') accordingly.\n",
    "\n",
    "Keep in mind, that result may vary on dataset we are using, if we take in account formal documents, less formal articles, science articles, posts in social media, because they use different vocabulary.\n",
    "The results will also not be optimal for every keyboard model, since different keyboards have different placemenet between top-middle-bottom row keys.\n",
    "\n",
    "Feel free to experiment with different datasets, for my analysis I will be using CC100-Polish dataset."
   ]
  }
 ],
 "metadata": {
  "kernelspec": {
   "display_name": "Python 3 (ipykernel)",
   "language": "python",
   "name": "python3"
  },
  "language_info": {
   "codemirror_mode": {
    "name": "ipython",
    "version": 3
   },
   "file_extension": ".py",
   "mimetype": "text/x-python",
   "name": "python",
   "nbconvert_exporter": "python",
   "pygments_lexer": "ipython3",
   "version": "3.9.18"
  }
 },
 "nbformat": 4,
 "nbformat_minor": 5
}
