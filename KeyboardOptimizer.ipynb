{
 "cells": [
  {
   "cell_type": "markdown",
   "id": "bfc5fe34-b5ae-4ad9-ab6c-be5cac6125ab",
   "metadata": {},
   "source": [
    "# Polish Keyboard Layout Optimizer"
   ]
  },
  {
   "cell_type": "markdown",
   "id": "d91f5356-6d08-4ebb-b2fa-4ae671d95fed",
   "metadata": {},
   "source": [
    "## Assumptions and goal\n",
    "Let's dive straight in: our mission is to craft the ultimate keyboard layout for typing in Polish. How do we define \"ultimate\"? Simple. It's all about minimizing the distance your fingers need to travel while typing. Less travel, more speed, better efficiency.\n",
    "\n",
    "### What does the best mean?\n",
    "In the realm of keyboard layouts, \"best\" is all about efficiency. It's a game of finding a layout where your fingers barely have to move to hit the right keys. Think of it as choreographing a finger ballet—smooth, swift, and efficient.\n",
    "\n",
    "### Our Target User\n",
    "Our muse is the classic 10-finger typist, using the traditional home row keys. We're designing for the typist who's all about A, S, D, F, and J, K, L, ; - but with a Polish twist. This means embracing all the unique characters of the Polish language.\n",
    "\n",
    "### A Note on Variability\n",
    "Here's where it gets spicy: different datasets lead to different layouts. From formal documents to casual tweets, the variety in language use means our optimal layout might shift a bit. And remember, keyboards themselves are diverse creatures. The spacing and placement of keys can vary, so our ideal layout might not be universally perfect."
   ]
  },
  {
   "cell_type": "markdown",
   "id": "65c8de65-07b7-4247-831d-683f74f5715d",
   "metadata": {},
   "source": [
    "## Methodology\n",
    "It's all about the data. We're diving deep into the CC100-Polish dataset to explore common words and typing patterns, including those unique Polish characters. Feel adventurous? Mix in other datasets for a broader view. Our goal? A keyboard layout that feels like it's reading your mind, with the least amount of finger travel possible."
   ]
  },
  {
   "cell_type": "code",
   "execution_count": 10,
   "id": "3f84c009-347d-492d-8d21-53dd6349d647",
   "metadata": {},
   "outputs": [
    {
     "data": {
      "text/plain": [
       "0"
      ]
     },
     "execution_count": 10,
     "metadata": {},
     "output_type": "execute_result"
    }
   ],
   "source": [
    "def calculate_key_distance(key1, key2, layout):\n",
    "    \"\"\"\n",
    "    Calculate the distance between two keys on a given keyboard layout, considering finger positions.\n",
    "    \n",
    "    :param key1: First key character\n",
    "    :param key2: Second key character\n",
    "    :param layout: Dictionary representing the keyboard layout with positions\n",
    "    :return: Distance between the two keys\n",
    "    \"\"\"\n",
    "    # Standard distances\n",
    "    same_row = 1.0\n",
    "    middle_upper = 1.032\n",
    "    middle_lower = 1.118\n",
    "    bottom_top = 2.138\n",
    "\n",
    "    # Special cases\n",
    "    special_cases = {\n",
    "        ('F', 'T'): 1.247, ('H', 'U'): 1.247,\n",
    "        ('G', 'R'): 1.605, ('J', 'Y'): 1.605,\n",
    "        ('B', 'F'): 1.803, ('M', 'H'): 1.803,\n",
    "        ('B', 'R'): 2.661, ('M', 'Y'): 2.661,\n",
    "        ('V', 'T'): 2.015, ('N', 'U'): 2.015\n",
    "    }\n",
    "\n",
    "    # Default finger positions (row, column)\n",
    "    default_positions = {\n",
    "        'left_pinky': (1, 0),  # A\n",
    "        'left_ring': (1, 1),   # S\n",
    "        'left_middle': (1, 2), # D\n",
    "        'left_index': (1, 3),  # F\n",
    "        'right_index': (1, 4), # J\n",
    "        'right_middle': (1, 5),# K\n",
    "        'right_ring': (1, 6),  # L\n",
    "        'right_pinky': (1, 7)  # ;\n",
    "    }\n",
    "\n",
    "    # Assign fingers to keys\n",
    "    finger_assignment = {\n",
    "        'A': 'left_pinky', 'S': 'left_ring', 'D': 'left_middle', 'F': 'left_index',\n",
    "        'J': 'right_index', 'K': 'right_middle', 'L': 'right_ring', ';': 'right_pinky',\n",
    "        # ... other keys ...\n",
    "    }\n",
    "\n",
    "    # Check for special case\n",
    "    if (key1, key2) in special_cases:\n",
    "        return special_cases[(key1, key2)]\n",
    "    elif (key2, key1) in special_cases:\n",
    "        return special_cases[(key2, key1)]\n",
    "\n",
    "    # Get positions of the keys\n",
    "    pos1 = layout.get(key1)\n",
    "    pos2 = layout.get(key2)\n",
    "\n",
    "    # Determine the fingers used for each key\n",
    "    finger1 = finger_assignment.get(key1)\n",
    "    finger2 = finger_assignment.get(key2)\n",
    "\n",
    "    # Calculate distance\n",
    "    if pos1 and pos2 and finger1 and finger2:\n",
    "        # If different fingers are used, calculate from the default position of the second finger\n",
    "        if finger1 != finger2:\n",
    "            default_pos2 = default_positions.get(finger2)\n",
    "            row_diff = abs(default_pos2[0] - pos2[0])\n",
    "            col_diff = abs(default_pos2[1] - pos2[1])\n",
    "        else:  # If the same finger is used, calculate directly between the keys\n",
    "            row_diff = abs(pos1[0] - pos2[0])\n",
    "            col_diff = abs(pos1[1] - pos2[1])\n",
    "\n",
    "        # Same row\n",
    "        if row_diff == 0:\n",
    "            return col_diff * same_row\n",
    "        # Adjacent rows (middle to upper or lower)\n",
    "        elif row_diff == 1:\n",
    "            return (col_diff * same_row) + (middle_upper if (1 in [default_pos2[0], pos2[0]]) else middle_lower)\n",
    "        # Bottom to top\n",
    "        elif row_diff == 2:\n",
    "            return (col_diff * same_row) + bottom_top\n",
    "    return 0  # Return 0 if keys are not found or the same\n",
    "\n",
    "# Test the function with an example\n",
    "calculate_key_distance('A', 'Q', example_layout)  # Example with different fingers (A to R)"
   ]
  },
  {
   "cell_type": "code",
   "execution_count": null,
   "id": "838744c2-682b-4b79-96bd-13516c06a96c",
   "metadata": {},
   "outputs": [],
   "source": []
  },
  {
   "cell_type": "markdown",
   "id": "968fc069-e726-491d-bb06-e1ed373ea2cc",
   "metadata": {},
   "source": [
    "# "
   ]
  }
 ],
 "metadata": {
  "kernelspec": {
   "display_name": "Python 3 (ipykernel)",
   "language": "python",
   "name": "python3"
  },
  "language_info": {
   "codemirror_mode": {
    "name": "ipython",
    "version": 3
   },
   "file_extension": ".py",
   "mimetype": "text/x-python",
   "name": "python",
   "nbconvert_exporter": "python",
   "pygments_lexer": "ipython3",
   "version": "3.9.18"
  }
 },
 "nbformat": 4,
 "nbformat_minor": 5
}
